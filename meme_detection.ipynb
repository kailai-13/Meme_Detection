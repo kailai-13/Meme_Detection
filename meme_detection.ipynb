{
 "cells": [
  {
   "cell_type": "code",
   "execution_count": 1,
   "metadata": {},
   "outputs": [],
   "source": [
    "from tensorflow import keras\n",
    "import tensorflow as tf\n",
    "from sklearn.metrics import classification_report, confusion_matrix\n",
    "import os\n",
    "import pandas as pd\n",
    "import numpy as np\n",
    "import matplotlib.pyplot as plt"
   ]
  },
  {
   "cell_type": "code",
   "execution_count": 2,
   "metadata": {},
   "outputs": [
    {
     "data": {
      "text/html": [
       "<div>\n",
       "<style scoped>\n",
       "    .dataframe tbody tr th:only-of-type {\n",
       "        vertical-align: middle;\n",
       "    }\n",
       "\n",
       "    .dataframe tbody tr th {\n",
       "        vertical-align: top;\n",
       "    }\n",
       "\n",
       "    .dataframe thead th {\n",
       "        text-align: right;\n",
       "    }\n",
       "</style>\n",
       "<table border=\"1\" class=\"dataframe\">\n",
       "  <thead>\n",
       "    <tr style=\"text-align: right;\">\n",
       "      <th></th>\n",
       "      <th>Unnamed: 0</th>\n",
       "      <th>image_url</th>\n",
       "      <th>humour</th>\n",
       "      <th>sarcastic</th>\n",
       "      <th>offensive</th>\n",
       "      <th>motivational</th>\n",
       "      <th>overall</th>\n",
       "      <th>ocr</th>\n",
       "    </tr>\n",
       "  </thead>\n",
       "  <tbody>\n",
       "    <tr>\n",
       "      <th>0</th>\n",
       "      <td>0</td>\n",
       "      <td>https://encrypted-tbn0.gstatic.com/images?q=tb...</td>\n",
       "      <td>very_funny</td>\n",
       "      <td>twisted_meaning</td>\n",
       "      <td>not_offensive</td>\n",
       "      <td>not_motivational</td>\n",
       "      <td>neutral</td>\n",
       "      <td>Relationship status.\\nSingle\\nMarried\\nIt's co...</td>\n",
       "    </tr>\n",
       "    <tr>\n",
       "      <th>1</th>\n",
       "      <td>1</td>\n",
       "      <td>https://encrypted-tbn0.gstatic.com/images?q=tb...</td>\n",
       "      <td>very_funny</td>\n",
       "      <td>twisted_meaning</td>\n",
       "      <td>slight</td>\n",
       "      <td>not_motivational</td>\n",
       "      <td>neutral</td>\n",
       "      <td>Bernie or REAGAN?\\nBe informed. Compare them o...</td>\n",
       "    </tr>\n",
       "    <tr>\n",
       "      <th>2</th>\n",
       "      <td>2</td>\n",
       "      <td>https://encrypted-tbn0.gstatic.com/images?q=tb...</td>\n",
       "      <td>funny</td>\n",
       "      <td>general</td>\n",
       "      <td>not_offensive</td>\n",
       "      <td>not_motivational</td>\n",
       "      <td>positive</td>\n",
       "      <td>I HEAR SOMETHING\\nBetter run a mile\\nOMG RAJ?\\...</td>\n",
       "    </tr>\n",
       "    <tr>\n",
       "      <th>3</th>\n",
       "      <td>3</td>\n",
       "      <td>https://preview.redd.it/iwcz3o2niix61.jpg?widt...</td>\n",
       "      <td>very_funny</td>\n",
       "      <td>twisted_meaning</td>\n",
       "      <td>not_offensive</td>\n",
       "      <td>not_motivational</td>\n",
       "      <td>positive</td>\n",
       "      <td>Redditors Visiting IG memepages\\n*dies from cr...</td>\n",
       "    </tr>\n",
       "    <tr>\n",
       "      <th>4</th>\n",
       "      <td>4</td>\n",
       "      <td>https://encrypted-tbn0.gstatic.com/images?q=tb...</td>\n",
       "      <td>not_funny</td>\n",
       "      <td>not_sarcastic</td>\n",
       "      <td>very_offensive</td>\n",
       "      <td>not_motivational</td>\n",
       "      <td>negative</td>\n",
       "      <td>Samajh nahi aaya Par sun ke acabo,\\nBUDGET SPE...</td>\n",
       "    </tr>\n",
       "    <tr>\n",
       "      <th>...</th>\n",
       "      <td>...</td>\n",
       "      <td>...</td>\n",
       "      <td>...</td>\n",
       "      <td>...</td>\n",
       "      <td>...</td>\n",
       "      <td>...</td>\n",
       "      <td>...</td>\n",
       "      <td>...</td>\n",
       "    </tr>\n",
       "    <tr>\n",
       "      <th>6995</th>\n",
       "      <td>6995</td>\n",
       "      <td>https://preview.redd.it/3c7iiijlg9d61.jpg?widt...</td>\n",
       "      <td>hilarious</td>\n",
       "      <td>general</td>\n",
       "      <td>slight</td>\n",
       "      <td>not_motivational</td>\n",
       "      <td>negative</td>\n",
       "      <td>$14 y/o nibbi*\\n*16 y/o nibba*\\n*20 y/o single...</td>\n",
       "    </tr>\n",
       "    <tr>\n",
       "      <th>6996</th>\n",
       "      <td>6996</td>\n",
       "      <td>https://encrypted-tbn0.gstatic.com/images?q=tb...</td>\n",
       "      <td>funny</td>\n",
       "      <td>very_twisted</td>\n",
       "      <td>hateful_offensive</td>\n",
       "      <td>not_motivational</td>\n",
       "      <td>negative</td>\n",
       "      <td>I DON'T HAVE A PROBLEM WITH\\nIMMIGRATION\\nIF W...</td>\n",
       "    </tr>\n",
       "    <tr>\n",
       "      <th>6997</th>\n",
       "      <td>6997</td>\n",
       "      <td>https://encrypted-tbn0.gstatic.com/images?q=tb...</td>\n",
       "      <td>hilarious</td>\n",
       "      <td>not_sarcastic</td>\n",
       "      <td>not_offensive</td>\n",
       "      <td>not_motivational</td>\n",
       "      <td>positive</td>\n",
       "      <td>Como umbalin\\nHey Alia,\\nWhat is the\\nOpposite...</td>\n",
       "    </tr>\n",
       "    <tr>\n",
       "      <th>6998</th>\n",
       "      <td>6998</td>\n",
       "      <td>https://encrypted-tbn0.gstatic.com/images?q=tb...</td>\n",
       "      <td>hilarious</td>\n",
       "      <td>general</td>\n",
       "      <td>very_offensive</td>\n",
       "      <td>motivational</td>\n",
       "      <td>negative</td>\n",
       "      <td>baby kya kr rhe ho?\\ntumhara favorite football...</td>\n",
       "    </tr>\n",
       "    <tr>\n",
       "      <th>6999</th>\n",
       "      <td>6999</td>\n",
       "      <td>https://i.redd.it/zy0sa8zk9zu51.png</td>\n",
       "      <td>hilarious</td>\n",
       "      <td>twisted_meaning</td>\n",
       "      <td>slight</td>\n",
       "      <td>motivational</td>\n",
       "      <td>positive</td>\n",
       "      <td>specific religion calls itself religion\\nof pe...</td>\n",
       "    </tr>\n",
       "  </tbody>\n",
       "</table>\n",
       "<p>7000 rows × 8 columns</p>\n",
       "</div>"
      ],
      "text/plain": [
       "      Unnamed: 0  ...                                                ocr\n",
       "0              0  ...  Relationship status.\\nSingle\\nMarried\\nIt's co...\n",
       "1              1  ...  Bernie or REAGAN?\\nBe informed. Compare them o...\n",
       "2              2  ...  I HEAR SOMETHING\\nBetter run a mile\\nOMG RAJ?\\...\n",
       "3              3  ...  Redditors Visiting IG memepages\\n*dies from cr...\n",
       "4              4  ...  Samajh nahi aaya Par sun ke acabo,\\nBUDGET SPE...\n",
       "...          ...  ...                                                ...\n",
       "6995        6995  ...  $14 y/o nibbi*\\n*16 y/o nibba*\\n*20 y/o single...\n",
       "6996        6996  ...  I DON'T HAVE A PROBLEM WITH\\nIMMIGRATION\\nIF W...\n",
       "6997        6997  ...  Como umbalin\\nHey Alia,\\nWhat is the\\nOpposite...\n",
       "6998        6998  ...  baby kya kr rhe ho?\\ntumhara favorite football...\n",
       "6999        6999  ...  specific religion calls itself religion\\nof pe...\n",
       "\n",
       "[7000 rows x 8 columns]"
      ]
     },
     "execution_count": 2,
     "metadata": {},
     "output_type": "execute_result"
    }
   ],
   "source": [
    "train=pd.read_csv('datasets/train.csv')\n",
    "train"
   ]
  },
  {
   "cell_type": "code",
   "execution_count": 5,
   "metadata": {},
   "outputs": [
    {
     "data": {
      "text/plain": [
       "Unnamed: 0      0\n",
       "image_url       0\n",
       "humour          0\n",
       "sarcastic       0\n",
       "offensive       0\n",
       "motivational    0\n",
       "overall         0\n",
       "ocr             0\n",
       "dtype: int64"
      ]
     },
     "execution_count": 5,
     "metadata": {},
     "output_type": "execute_result"
    }
   ],
   "source": [
    "train.isnull().sum()"
   ]
  },
  {
   "cell_type": "code",
   "execution_count": null,
   "metadata": {},
   "outputs": [],
   "source": []
  },
  {
   "cell_type": "code",
   "execution_count": 11,
   "metadata": {},
   "outputs": [],
   "source": [
    "import cv2\n",
    "def read_image(path):\n",
    "    img=cv2.imread(path)\n",
    "    img=cv2.cvtColor(img,cv2.COLOR_BGR2RGB)\n",
    "    img=cv2.resize(img,(224,224))\n",
    "    return img"
   ]
  },
  {
   "cell_type": "code",
   "execution_count": 14,
   "metadata": {},
   "outputs": [],
   "source": [
    "img1=read_image(os.path.join('.','datasets','trainimages','9.jpg'))"
   ]
  },
  {
   "cell_type": "code",
   "execution_count": 15,
   "metadata": {},
   "outputs": [
    {
     "data": {
      "text/plain": [
       "(224, 224, 3)"
      ]
     },
     "execution_count": 15,
     "metadata": {},
     "output_type": "execute_result"
    }
   ],
   "source": [
    "img1.shape"
   ]
  },
  {
   "cell_type": "code",
   "execution_count": 20,
   "metadata": {},
   "outputs": [],
   "source": [
    "X=[]\n",
    "for i in range(3000):\n",
    "    img=read_image(os.path.join('.','datasets','trainimages',str(i)+'.jpg'))\n",
    "    X.append(img)\n",
    "    "
   ]
  },
  {
   "cell_type": "code",
   "execution_count": 23,
   "metadata": {},
   "outputs": [],
   "source": [
    "X=np.array(X)\n",
    "X=X/255"
   ]
  },
  {
   "cell_type": "code",
   "execution_count": 24,
   "metadata": {},
   "outputs": [
    {
     "data": {
      "text/plain": [
       "array([[[[0.99607843, 0.99607843, 0.99607843],\n",
       "         [0.96078431, 0.96078431, 0.96078431],\n",
       "         [1.        , 1.        , 1.        ],\n",
       "         ...,\n",
       "         [1.        , 1.        , 1.        ],\n",
       "         [1.        , 1.        , 1.        ],\n",
       "         [0.82352941, 0.82352941, 0.82352941]],\n",
       "\n",
       "        [[1.        , 1.        , 1.        ],\n",
       "         [0.98823529, 0.98823529, 0.98823529],\n",
       "         [0.94509804, 0.94509804, 0.94509804],\n",
       "         ...,\n",
       "         [1.        , 1.        , 1.        ],\n",
       "         [1.        , 1.        , 1.        ],\n",
       "         [0.81960784, 0.81960784, 0.81960784]],\n",
       "\n",
       "        [[0.98039216, 0.98039216, 0.98039216],\n",
       "         [0.99215686, 0.99215686, 0.99215686],\n",
       "         [0.98039216, 0.98039216, 0.98039216],\n",
       "         ...,\n",
       "         [1.        , 1.        , 1.        ],\n",
       "         [1.        , 1.        , 1.        ],\n",
       "         [0.82352941, 0.82352941, 0.82352941]],\n",
       "\n",
       "        ...,\n",
       "\n",
       "        [[0.99607843, 0.99607843, 0.99607843],\n",
       "         [0.99607843, 0.99607843, 0.99607843],\n",
       "         [0.99607843, 0.99607843, 0.99607843],\n",
       "         ...,\n",
       "         [0.99607843, 0.99607843, 0.99607843],\n",
       "         [0.99607843, 0.99607843, 0.99607843],\n",
       "         [0.81960784, 0.81960784, 0.81960784]],\n",
       "\n",
       "        [[0.96078431, 0.96078431, 0.96078431],\n",
       "         [0.96078431, 0.96078431, 0.96078431],\n",
       "         [0.96078431, 0.96078431, 0.96078431],\n",
       "         ...,\n",
       "         [0.96078431, 0.96078431, 0.96078431],\n",
       "         [0.96078431, 0.96078431, 0.96078431],\n",
       "         [0.79215686, 0.79215686, 0.79215686]],\n",
       "\n",
       "        [[0.8       , 0.8       , 0.8       ],\n",
       "         [0.8       , 0.8       , 0.8       ],\n",
       "         [0.8       , 0.8       , 0.8       ],\n",
       "         ...,\n",
       "         [0.8       , 0.8       , 0.8       ],\n",
       "         [0.8       , 0.8       , 0.8       ],\n",
       "         [0.64705882, 0.64705882, 0.64705882]]],\n",
       "\n",
       "\n",
       "       [[[0.04313725, 0.39607843, 0.59607843],\n",
       "         [0.00392157, 0.31372549, 0.5254902 ],\n",
       "         [0.02745098, 0.30980392, 0.54509804],\n",
       "         ...,\n",
       "         [0.43529412, 0.60392157, 0.80784314],\n",
       "         [0.38039216, 0.57647059, 0.8       ],\n",
       "         [0.33333333, 0.54901961, 0.77254902]],\n",
       "\n",
       "        [[0.00392157, 0.3372549 , 0.53333333],\n",
       "         [0.01568627, 0.3372549 , 0.54901961],\n",
       "         [0.04313725, 0.3254902 , 0.56078431],\n",
       "         ...,\n",
       "         [0.47058824, 0.63921569, 0.83137255],\n",
       "         [0.43529412, 0.63137255, 0.83921569],\n",
       "         [0.4       , 0.61568627, 0.83529412]],\n",
       "\n",
       "        [[0.        , 0.32941176, 0.52156863],\n",
       "         [0.00392157, 0.33333333, 0.54901961],\n",
       "         [0.02352941, 0.29803922, 0.54117647],\n",
       "         ...,\n",
       "         [0.47058824, 0.64313725, 0.80784314],\n",
       "         [0.43529412, 0.63921569, 0.82745098],\n",
       "         [0.41960784, 0.63529412, 0.83921569]],\n",
       "\n",
       "        ...,\n",
       "\n",
       "        [[0.19607843, 0.58431373, 0.8       ],\n",
       "         [0.21960784, 0.59215686, 0.80392157],\n",
       "         [0.19607843, 0.5372549 , 0.73333333],\n",
       "         ...,\n",
       "         [0.19215686, 0.45490196, 0.63137255],\n",
       "         [0.16470588, 0.43137255, 0.60784314],\n",
       "         [0.13333333, 0.41176471, 0.58431373]],\n",
       "\n",
       "        [[0.18823529, 0.57647059, 0.8       ],\n",
       "         [0.23921569, 0.61960784, 0.83529412],\n",
       "         [0.2       , 0.54901961, 0.75294118],\n",
       "         ...,\n",
       "         [0.18823529, 0.43921569, 0.61960784],\n",
       "         [0.16470588, 0.42352941, 0.6       ],\n",
       "         [0.1372549 , 0.4       , 0.57647059]],\n",
       "\n",
       "        [[0.02352941, 0.41568627, 0.64705882],\n",
       "         [0.11764706, 0.49411765, 0.71764706],\n",
       "         [0.17647059, 0.52941176, 0.7372549 ],\n",
       "         ...,\n",
       "         [0.19215686, 0.43529412, 0.61960784],\n",
       "         [0.17254902, 0.41568627, 0.60392157],\n",
       "         [0.14901961, 0.39215686, 0.57647059]]],\n",
       "\n",
       "\n",
       "       [[[0.75294118, 0.48235294, 0.45490196],\n",
       "         [0.75294118, 0.48235294, 0.45490196],\n",
       "         [0.75294118, 0.48235294, 0.45490196],\n",
       "         ...,\n",
       "         [0.75294118, 0.48235294, 0.45490196],\n",
       "         [0.75294118, 0.48235294, 0.45490196],\n",
       "         [0.75294118, 0.48235294, 0.45490196]],\n",
       "\n",
       "        [[0.75294118, 0.48235294, 0.45490196],\n",
       "         [0.75294118, 0.48235294, 0.45490196],\n",
       "         [0.75294118, 0.48235294, 0.45490196],\n",
       "         ...,\n",
       "         [0.75294118, 0.48235294, 0.45490196],\n",
       "         [0.75294118, 0.48235294, 0.45490196],\n",
       "         [0.75294118, 0.48235294, 0.45490196]],\n",
       "\n",
       "        [[0.75294118, 0.48235294, 0.45490196],\n",
       "         [0.75294118, 0.48235294, 0.45490196],\n",
       "         [0.75294118, 0.48235294, 0.45490196],\n",
       "         ...,\n",
       "         [0.75294118, 0.48235294, 0.45490196],\n",
       "         [0.75294118, 0.48235294, 0.45490196],\n",
       "         [0.75294118, 0.48235294, 0.45490196]],\n",
       "\n",
       "        ...,\n",
       "\n",
       "        [[0.75294118, 0.48235294, 0.45490196],\n",
       "         [0.75294118, 0.48235294, 0.45490196],\n",
       "         [0.75294118, 0.48235294, 0.45490196],\n",
       "         ...,\n",
       "         [0.75294118, 0.48235294, 0.45490196],\n",
       "         [0.75294118, 0.48235294, 0.45490196],\n",
       "         [0.75294118, 0.48235294, 0.45490196]],\n",
       "\n",
       "        [[0.75294118, 0.48235294, 0.45490196],\n",
       "         [0.75294118, 0.48235294, 0.45490196],\n",
       "         [0.75294118, 0.48235294, 0.45490196],\n",
       "         ...,\n",
       "         [0.75294118, 0.48235294, 0.45490196],\n",
       "         [0.75294118, 0.48235294, 0.45490196],\n",
       "         [0.75294118, 0.48235294, 0.45490196]],\n",
       "\n",
       "        [[0.75294118, 0.48235294, 0.45490196],\n",
       "         [0.75294118, 0.48235294, 0.45490196],\n",
       "         [0.75294118, 0.48235294, 0.45490196],\n",
       "         ...,\n",
       "         [0.75294118, 0.48235294, 0.45490196],\n",
       "         [0.75294118, 0.48235294, 0.45490196],\n",
       "         [0.75294118, 0.48235294, 0.45490196]]],\n",
       "\n",
       "\n",
       "       ...,\n",
       "\n",
       "\n",
       "       [[[0.02745098, 0.        , 0.2745098 ],\n",
       "         [0.05490196, 0.05490196, 0.15294118],\n",
       "         [0.01960784, 0.03529412, 0.01960784],\n",
       "         ...,\n",
       "         [0.        , 0.        , 0.        ],\n",
       "         [0.        , 0.        , 0.        ],\n",
       "         [0.        , 0.        , 0.        ]],\n",
       "\n",
       "        [[0.03529412, 0.00784314, 0.23137255],\n",
       "         [0.01960784, 0.02352941, 0.09019608],\n",
       "         [0.01176471, 0.02352941, 0.00784314],\n",
       "         ...,\n",
       "         [0.        , 0.        , 0.        ],\n",
       "         [0.        , 0.        , 0.        ],\n",
       "         [0.        , 0.        , 0.        ]],\n",
       "\n",
       "        [[0.03921569, 0.01176471, 0.14901961],\n",
       "         [0.03921569, 0.03137255, 0.04705882],\n",
       "         [0.03529412, 0.04705882, 0.        ],\n",
       "         ...,\n",
       "         [0.        , 0.        , 0.        ],\n",
       "         [0.        , 0.        , 0.        ],\n",
       "         [0.        , 0.        , 0.        ]],\n",
       "\n",
       "        ...,\n",
       "\n",
       "        [[0.00392157, 0.00392157, 0.00392157],\n",
       "         [0.00392157, 0.00392157, 0.00392157],\n",
       "         [0.00392157, 0.00392157, 0.00392157],\n",
       "         ...,\n",
       "         [0.02352941, 0.02745098, 0.        ],\n",
       "         [0.01960784, 0.01960784, 0.        ],\n",
       "         [0.01176471, 0.01176471, 0.        ]],\n",
       "\n",
       "        [[0.00392157, 0.00392157, 0.00392157],\n",
       "         [0.00392157, 0.00392157, 0.00392157],\n",
       "         [0.00392157, 0.00392157, 0.00392157],\n",
       "         ...,\n",
       "         [0.21568627, 0.21568627, 0.17254902],\n",
       "         [0.20392157, 0.20784314, 0.16862745],\n",
       "         [0.18823529, 0.19215686, 0.16078431]],\n",
       "\n",
       "        [[0.00392157, 0.00392157, 0.00392157],\n",
       "         [0.00392157, 0.00392157, 0.00392157],\n",
       "         [0.00392157, 0.00392157, 0.00392157],\n",
       "         ...,\n",
       "         [0.51372549, 0.51372549, 0.45882353],\n",
       "         [0.49803922, 0.50196078, 0.44705882],\n",
       "         [0.4745098 , 0.48235294, 0.42745098]]],\n",
       "\n",
       "\n",
       "       [[[0.12156863, 0.15294118, 0.21568627],\n",
       "         [0.08627451, 0.1254902 , 0.18431373],\n",
       "         [0.0745098 , 0.13333333, 0.18431373],\n",
       "         ...,\n",
       "         [0.05490196, 0.09411765, 0.14117647],\n",
       "         [0.08235294, 0.12156863, 0.16862745],\n",
       "         [0.0745098 , 0.11372549, 0.16078431]],\n",
       "\n",
       "        [[0.0745098 , 0.10196078, 0.16470588],\n",
       "         [0.0745098 , 0.11372549, 0.17254902],\n",
       "         [0.08627451, 0.1372549 , 0.19215686],\n",
       "         ...,\n",
       "         [0.08627451, 0.1254902 , 0.17254902],\n",
       "         [0.0745098 , 0.11372549, 0.16470588],\n",
       "         [0.07058824, 0.10980392, 0.15686275]],\n",
       "\n",
       "        [[0.0745098 , 0.10196078, 0.16078431],\n",
       "         [0.0627451 , 0.10196078, 0.15294118],\n",
       "         [0.09411765, 0.14509804, 0.19215686],\n",
       "         ...,\n",
       "         [0.09019608, 0.12941176, 0.17647059],\n",
       "         [0.08235294, 0.12156863, 0.16862745],\n",
       "         [0.07843137, 0.11764706, 0.16470588]],\n",
       "\n",
       "        ...,\n",
       "\n",
       "        [[0.08627451, 0.1254902 , 0.17254902],\n",
       "         [0.08627451, 0.1254902 , 0.17254902],\n",
       "         [0.08627451, 0.1254902 , 0.17254902],\n",
       "         ...,\n",
       "         [0.08627451, 0.1254902 , 0.17254902],\n",
       "         [0.08627451, 0.1254902 , 0.17254902],\n",
       "         [0.08627451, 0.1254902 , 0.17254902]],\n",
       "\n",
       "        [[0.08627451, 0.1254902 , 0.17254902],\n",
       "         [0.08627451, 0.1254902 , 0.17254902],\n",
       "         [0.08627451, 0.1254902 , 0.17254902],\n",
       "         ...,\n",
       "         [0.08627451, 0.1254902 , 0.17254902],\n",
       "         [0.08627451, 0.1254902 , 0.17254902],\n",
       "         [0.08627451, 0.1254902 , 0.17254902]],\n",
       "\n",
       "        [[0.08627451, 0.1254902 , 0.17254902],\n",
       "         [0.08627451, 0.1254902 , 0.17254902],\n",
       "         [0.08627451, 0.1254902 , 0.17254902],\n",
       "         ...,\n",
       "         [0.08627451, 0.1254902 , 0.17254902],\n",
       "         [0.08627451, 0.1254902 , 0.17254902],\n",
       "         [0.08627451, 0.1254902 , 0.17254902]]],\n",
       "\n",
       "\n",
       "       [[[0.01568627, 0.09411765, 0.18823529],\n",
       "         [0.02745098, 0.08627451, 0.18431373],\n",
       "         [0.0627451 , 0.09019608, 0.18431373],\n",
       "         ...,\n",
       "         [0.21176471, 0.08627451, 0.02745098],\n",
       "         [0.20784314, 0.08627451, 0.03529412],\n",
       "         [0.20392157, 0.08627451, 0.04313725]],\n",
       "\n",
       "        [[0.01568627, 0.09411765, 0.18823529],\n",
       "         [0.02745098, 0.08235294, 0.18431373],\n",
       "         [0.0627451 , 0.09019608, 0.18431373],\n",
       "         ...,\n",
       "         [0.21176471, 0.08627451, 0.02745098],\n",
       "         [0.20784314, 0.08627451, 0.03529412],\n",
       "         [0.20392157, 0.08627451, 0.04313725]],\n",
       "\n",
       "        [[0.01960784, 0.09411765, 0.18823529],\n",
       "         [0.02352941, 0.08235294, 0.18039216],\n",
       "         [0.05882353, 0.08627451, 0.18039216],\n",
       "         ...,\n",
       "         [0.21176471, 0.08627451, 0.02745098],\n",
       "         [0.20784314, 0.08627451, 0.03529412],\n",
       "         [0.20392157, 0.08627451, 0.04313725]],\n",
       "\n",
       "        ...,\n",
       "\n",
       "        [[0.05098039, 0.03529412, 0.00784314],\n",
       "         [0.09803922, 0.09803922, 0.03921569],\n",
       "         [0.20392157, 0.21960784, 0.10980392],\n",
       "         ...,\n",
       "         [0.3254902 , 0.18431373, 0.04313725],\n",
       "         [0.30196078, 0.16078431, 0.03137255],\n",
       "         [0.28627451, 0.14117647, 0.02745098]],\n",
       "\n",
       "        [[0.04705882, 0.03529412, 0.00392157],\n",
       "         [0.10196078, 0.09803922, 0.03921569],\n",
       "         [0.20784314, 0.22745098, 0.11372549],\n",
       "         ...,\n",
       "         [0.3254902 , 0.18431373, 0.04705882],\n",
       "         [0.30588235, 0.16470588, 0.03529412],\n",
       "         [0.28627451, 0.14509804, 0.02745098]],\n",
       "\n",
       "        [[0.04705882, 0.03529412, 0.00392157],\n",
       "         [0.10588235, 0.10196078, 0.04313725],\n",
       "         [0.21176471, 0.23137255, 0.11764706],\n",
       "         ...,\n",
       "         [0.3254902 , 0.18431373, 0.04313725],\n",
       "         [0.30588235, 0.16470588, 0.03529412],\n",
       "         [0.28627451, 0.14509804, 0.02745098]]]],\n",
       "      shape=(3000, 224, 224, 3))"
      ]
     },
     "execution_count": 24,
     "metadata": {},
     "output_type": "execute_result"
    }
   ],
   "source": [
    "X"
   ]
  },
  {
   "cell_type": "code",
   "execution_count": 28,
   "metadata": {},
   "outputs": [
    {
     "data": {
      "text/plain": [
       "overall\n",
       "neutral          2970\n",
       "positive         1902\n",
       "negative         1454\n",
       "very_positive     373\n",
       "very_negative     301\n",
       "Name: count, dtype: int64"
      ]
     },
     "execution_count": 28,
     "metadata": {},
     "output_type": "execute_result"
    }
   ],
   "source": [
    "train['overall'].value_counts()"
   ]
  },
  {
   "cell_type": "code",
   "execution_count": 43,
   "metadata": {},
   "outputs": [],
   "source": [
    "from sklearn.preprocessing import LabelEncoder\n",
    "le=LabelEncoder()\n",
    "y=le.fit_transform(train['overall'])"
   ]
  },
  {
   "cell_type": "code",
   "execution_count": 44,
   "metadata": {},
   "outputs": [
    {
     "data": {
      "text/plain": [
       "1    2970\n",
       "2    1902\n",
       "0    1454\n",
       "4     373\n",
       "3     301\n",
       "Name: count, dtype: int64"
      ]
     },
     "execution_count": 44,
     "metadata": {},
     "output_type": "execute_result"
    }
   ],
   "source": [
    "y=pd.Series(y)\n",
    "y.value_counts()"
   ]
  },
  {
   "cell_type": "code",
   "execution_count": 45,
   "metadata": {},
   "outputs": [
    {
     "data": {
      "text/plain": [
       "5"
      ]
     },
     "execution_count": 45,
     "metadata": {},
     "output_type": "execute_result"
    }
   ],
   "source": [
    "len(y.unique())"
   ]
  },
  {
   "cell_type": "code",
   "execution_count": 35,
   "metadata": {},
   "outputs": [
    {
     "name": "stderr",
     "output_type": "stream",
     "text": [
      "c:\\Users\\Kaila\\.pyenv\\pyenv-win\\versions\\3.10.0\\lib\\site-packages\\keras\\src\\layers\\convolutional\\base_conv.py:107: UserWarning: Do not pass an `input_shape`/`input_dim` argument to a layer. When using Sequential models, prefer using an `Input(shape)` object as the first layer in the model instead.\n",
      "  super().__init__(activity_regularizer=activity_regularizer, **kwargs)\n"
     ]
    }
   ],
   "source": [
    "cnn= keras.models.Sequential([\n",
    "    keras.layers.Conv2D(64,(3,3),input_shape=(224,224,3),activation='relu'),\n",
    "    keras.layers.MaxPooling2D((2,2)),\n",
    "    keras.layers.Conv2D(128,(3,3),activation='relu'),\n",
    "    keras.layers.MaxPooling2D((2,2)),\n",
    "    keras.layers.Flatten(),\n",
    "    keras.layers.Dense(64,activation='relu'),\n",
    "    keras.layers.Dense(len(y.unique()),activation='softmax')\n",
    "\n",
    "])"
   ]
  },
  {
   "cell_type": "code",
   "execution_count": 36,
   "metadata": {},
   "outputs": [],
   "source": [
    "cnn.compile(optimizer='adam',loss='sparse_categorical_crossentropy',metrics=['accuracy'])"
   ]
  },
  {
   "cell_type": "code",
   "execution_count": 46,
   "metadata": {},
   "outputs": [],
   "source": [
    "\n",
    "y=y[:3000]"
   ]
  },
  {
   "cell_type": "code",
   "execution_count": 47,
   "metadata": {},
   "outputs": [
    {
     "data": {
      "text/plain": [
       "3000"
      ]
     },
     "execution_count": 47,
     "metadata": {},
     "output_type": "execute_result"
    }
   ],
   "source": [
    "len(y)"
   ]
  },
  {
   "cell_type": "code",
   "execution_count": 48,
   "metadata": {},
   "outputs": [
    {
     "name": "stdout",
     "output_type": "stream",
     "text": [
      "Epoch 1/3\n",
      "\u001b[1m 2/94\u001b[0m \u001b[37m━━━━━━━━━━━━━━━━━━━━\u001b[0m \u001b[1m3:05\u001b[0m 2s/step - accuracy: 0.1953 - loss: 8.0210"
     ]
    }
   ],
   "source": [
    "cnn.fit(X,y,epochs=3)"
   ]
  }
 ],
 "metadata": {
  "kernelspec": {
   "display_name": "Python 3",
   "language": "python",
   "name": "python3"
  },
  "language_info": {
   "codemirror_mode": {
    "name": "ipython",
    "version": 3
   },
   "file_extension": ".py",
   "mimetype": "text/x-python",
   "name": "python",
   "nbconvert_exporter": "python",
   "pygments_lexer": "ipython3",
   "version": "3.10.0"
  }
 },
 "nbformat": 4,
 "nbformat_minor": 2
}
