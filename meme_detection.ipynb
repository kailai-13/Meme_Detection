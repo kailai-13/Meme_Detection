{
 "cells": [
  {
   "cell_type": "code",
   "execution_count": 1,
   "metadata": {},
   "outputs": [],
   "source": [
    "from tensorflow import keras\n",
    "import tensorflow as tf\n",
    "from sklearn.metrics import classification_report, confusion_matrix\n",
    "import os\n",
    "import pandas as pd\n",
    "import numpy as np\n",
    "import matplotlib.pyplot as plt"
   ]
  },
  {
   "cell_type": "code",
   "execution_count": 2,
   "metadata": {},
   "outputs": [
    {
     "data": {
      "text/html": [
       "<div>\n",
       "<style scoped>\n",
       "    .dataframe tbody tr th:only-of-type {\n",
       "        vertical-align: middle;\n",
       "    }\n",
       "\n",
       "    .dataframe tbody tr th {\n",
       "        vertical-align: top;\n",
       "    }\n",
       "\n",
       "    .dataframe thead th {\n",
       "        text-align: right;\n",
       "    }\n",
       "</style>\n",
       "<table border=\"1\" class=\"dataframe\">\n",
       "  <thead>\n",
       "    <tr style=\"text-align: right;\">\n",
       "      <th></th>\n",
       "      <th>Unnamed: 0</th>\n",
       "      <th>image_url</th>\n",
       "      <th>humour</th>\n",
       "      <th>sarcastic</th>\n",
       "      <th>offensive</th>\n",
       "      <th>motivational</th>\n",
       "      <th>overall</th>\n",
       "      <th>ocr</th>\n",
       "    </tr>\n",
       "  </thead>\n",
       "  <tbody>\n",
       "    <tr>\n",
       "      <th>0</th>\n",
       "      <td>0</td>\n",
       "      <td>https://encrypted-tbn0.gstatic.com/images?q=tb...</td>\n",
       "      <td>very_funny</td>\n",
       "      <td>twisted_meaning</td>\n",
       "      <td>not_offensive</td>\n",
       "      <td>not_motivational</td>\n",
       "      <td>neutral</td>\n",
       "      <td>Relationship status.\\nSingle\\nMarried\\nIt's co...</td>\n",
       "    </tr>\n",
       "    <tr>\n",
       "      <th>1</th>\n",
       "      <td>1</td>\n",
       "      <td>https://encrypted-tbn0.gstatic.com/images?q=tb...</td>\n",
       "      <td>very_funny</td>\n",
       "      <td>twisted_meaning</td>\n",
       "      <td>slight</td>\n",
       "      <td>not_motivational</td>\n",
       "      <td>neutral</td>\n",
       "      <td>Bernie or REAGAN?\\nBe informed. Compare them o...</td>\n",
       "    </tr>\n",
       "    <tr>\n",
       "      <th>2</th>\n",
       "      <td>2</td>\n",
       "      <td>https://encrypted-tbn0.gstatic.com/images?q=tb...</td>\n",
       "      <td>funny</td>\n",
       "      <td>general</td>\n",
       "      <td>not_offensive</td>\n",
       "      <td>not_motivational</td>\n",
       "      <td>positive</td>\n",
       "      <td>I HEAR SOMETHING\\nBetter run a mile\\nOMG RAJ?\\...</td>\n",
       "    </tr>\n",
       "    <tr>\n",
       "      <th>3</th>\n",
       "      <td>3</td>\n",
       "      <td>https://preview.redd.it/iwcz3o2niix61.jpg?widt...</td>\n",
       "      <td>very_funny</td>\n",
       "      <td>twisted_meaning</td>\n",
       "      <td>not_offensive</td>\n",
       "      <td>not_motivational</td>\n",
       "      <td>positive</td>\n",
       "      <td>Redditors Visiting IG memepages\\n*dies from cr...</td>\n",
       "    </tr>\n",
       "    <tr>\n",
       "      <th>4</th>\n",
       "      <td>4</td>\n",
       "      <td>https://encrypted-tbn0.gstatic.com/images?q=tb...</td>\n",
       "      <td>not_funny</td>\n",
       "      <td>not_sarcastic</td>\n",
       "      <td>very_offensive</td>\n",
       "      <td>not_motivational</td>\n",
       "      <td>negative</td>\n",
       "      <td>Samajh nahi aaya Par sun ke acabo,\\nBUDGET SPE...</td>\n",
       "    </tr>\n",
       "    <tr>\n",
       "      <th>...</th>\n",
       "      <td>...</td>\n",
       "      <td>...</td>\n",
       "      <td>...</td>\n",
       "      <td>...</td>\n",
       "      <td>...</td>\n",
       "      <td>...</td>\n",
       "      <td>...</td>\n",
       "      <td>...</td>\n",
       "    </tr>\n",
       "    <tr>\n",
       "      <th>6995</th>\n",
       "      <td>6995</td>\n",
       "      <td>https://preview.redd.it/3c7iiijlg9d61.jpg?widt...</td>\n",
       "      <td>hilarious</td>\n",
       "      <td>general</td>\n",
       "      <td>slight</td>\n",
       "      <td>not_motivational</td>\n",
       "      <td>negative</td>\n",
       "      <td>$14 y/o nibbi*\\n*16 y/o nibba*\\n*20 y/o single...</td>\n",
       "    </tr>\n",
       "    <tr>\n",
       "      <th>6996</th>\n",
       "      <td>6996</td>\n",
       "      <td>https://encrypted-tbn0.gstatic.com/images?q=tb...</td>\n",
       "      <td>funny</td>\n",
       "      <td>very_twisted</td>\n",
       "      <td>hateful_offensive</td>\n",
       "      <td>not_motivational</td>\n",
       "      <td>negative</td>\n",
       "      <td>I DON'T HAVE A PROBLEM WITH\\nIMMIGRATION\\nIF W...</td>\n",
       "    </tr>\n",
       "    <tr>\n",
       "      <th>6997</th>\n",
       "      <td>6997</td>\n",
       "      <td>https://encrypted-tbn0.gstatic.com/images?q=tb...</td>\n",
       "      <td>hilarious</td>\n",
       "      <td>not_sarcastic</td>\n",
       "      <td>not_offensive</td>\n",
       "      <td>not_motivational</td>\n",
       "      <td>positive</td>\n",
       "      <td>Como umbalin\\nHey Alia,\\nWhat is the\\nOpposite...</td>\n",
       "    </tr>\n",
       "    <tr>\n",
       "      <th>6998</th>\n",
       "      <td>6998</td>\n",
       "      <td>https://encrypted-tbn0.gstatic.com/images?q=tb...</td>\n",
       "      <td>hilarious</td>\n",
       "      <td>general</td>\n",
       "      <td>very_offensive</td>\n",
       "      <td>motivational</td>\n",
       "      <td>negative</td>\n",
       "      <td>baby kya kr rhe ho?\\ntumhara favorite football...</td>\n",
       "    </tr>\n",
       "    <tr>\n",
       "      <th>6999</th>\n",
       "      <td>6999</td>\n",
       "      <td>https://i.redd.it/zy0sa8zk9zu51.png</td>\n",
       "      <td>hilarious</td>\n",
       "      <td>twisted_meaning</td>\n",
       "      <td>slight</td>\n",
       "      <td>motivational</td>\n",
       "      <td>positive</td>\n",
       "      <td>specific religion calls itself religion\\nof pe...</td>\n",
       "    </tr>\n",
       "  </tbody>\n",
       "</table>\n",
       "<p>7000 rows × 8 columns</p>\n",
       "</div>"
      ],
      "text/plain": [
       "      Unnamed: 0  ...                                                ocr\n",
       "0              0  ...  Relationship status.\\nSingle\\nMarried\\nIt's co...\n",
       "1              1  ...  Bernie or REAGAN?\\nBe informed. Compare them o...\n",
       "2              2  ...  I HEAR SOMETHING\\nBetter run a mile\\nOMG RAJ?\\...\n",
       "3              3  ...  Redditors Visiting IG memepages\\n*dies from cr...\n",
       "4              4  ...  Samajh nahi aaya Par sun ke acabo,\\nBUDGET SPE...\n",
       "...          ...  ...                                                ...\n",
       "6995        6995  ...  $14 y/o nibbi*\\n*16 y/o nibba*\\n*20 y/o single...\n",
       "6996        6996  ...  I DON'T HAVE A PROBLEM WITH\\nIMMIGRATION\\nIF W...\n",
       "6997        6997  ...  Como umbalin\\nHey Alia,\\nWhat is the\\nOpposite...\n",
       "6998        6998  ...  baby kya kr rhe ho?\\ntumhara favorite football...\n",
       "6999        6999  ...  specific religion calls itself religion\\nof pe...\n",
       "\n",
       "[7000 rows x 8 columns]"
      ]
     },
     "execution_count": 2,
     "metadata": {},
     "output_type": "execute_result"
    }
   ],
   "source": [
    "train=pd.read_csv('datasets/train.csv')\n",
    "train"
   ]
  },
  {
   "cell_type": "code",
   "execution_count": 5,
   "metadata": {},
   "outputs": [
    {
     "data": {
      "text/plain": [
       "Unnamed: 0      0\n",
       "image_url       0\n",
       "humour          0\n",
       "sarcastic       0\n",
       "offensive       0\n",
       "motivational    0\n",
       "overall         0\n",
       "ocr             0\n",
       "dtype: int64"
      ]
     },
     "execution_count": 5,
     "metadata": {},
     "output_type": "execute_result"
    }
   ],
   "source": [
    "train.isnull().sum()"
   ]
  },
  {
   "cell_type": "code",
   "execution_count": null,
   "metadata": {},
   "outputs": [],
   "source": []
  },
  {
   "cell_type": "code",
   "execution_count": 11,
   "metadata": {},
   "outputs": [],
   "source": [
    "import cv2\n",
    "def read_image(path):\n",
    "    img=cv2.imread(path)\n",
    "    img=cv2.cvtColor(img,cv2.COLOR_BGR2RGB)\n",
    "    img=cv2.resize(img,(224,224))\n",
    "    return img"
   ]
  },
  {
   "cell_type": "code",
   "execution_count": 14,
   "metadata": {},
   "outputs": [],
   "source": [
    "img1=read_image(os.path.join('.','datasets','trainimages','9.jpg'))"
   ]
  },
  {
   "cell_type": "code",
   "execution_count": 15,
   "metadata": {},
   "outputs": [
    {
     "data": {
      "text/plain": [
       "(224, 224, 3)"
      ]
     },
     "execution_count": 15,
     "metadata": {},
     "output_type": "execute_result"
    }
   ],
   "source": [
    "img1.shape"
   ]
  },
  {
   "cell_type": "code",
   "execution_count": 20,
   "metadata": {},
   "outputs": [],
   "source": [
    "X=[]\n",
    "for i in range(3000):\n",
    "    img=read_image(os.path.join('.','datasets','trainimages',str(i)+'.jpg'))\n",
    "    X.append(img)\n",
    "    "
   ]
  },
  {
   "cell_type": "code",
   "execution_count": 23,
   "metadata": {},
   "outputs": [],
   "source": [
    "X=np.array(X)\n",
    "X=X/255"
   ]
  },
  {
   "cell_type": "code",
   "execution_count": 24,
   "metadata": {},
   "outputs": [
    {
     "data": {
      "text/plain": [
       "array([[[[0.99607843, 0.99607843, 0.99607843],\n",
       "         [0.96078431, 0.96078431, 0.96078431],\n",
       "         [1.        , 1.        , 1.        ],\n",
       "         ...,\n",
       "         [1.        , 1.        , 1.        ],\n",
       "         [1.        , 1.        , 1.        ],\n",
       "         [0.82352941, 0.82352941, 0.82352941]],\n",
       "\n",
       "        [[1.        , 1.        , 1.        ],\n",
       "         [0.98823529, 0.98823529, 0.98823529],\n",
       "         [0.94509804, 0.94509804, 0.94509804],\n",
       "         ...,\n",
       "         [1.        , 1.        , 1.        ],\n",
       "         [1.        , 1.        , 1.        ],\n",
       "         [0.81960784, 0.81960784, 0.81960784]],\n",
       "\n",
       "        [[0.98039216, 0.98039216, 0.98039216],\n",
       "         [0.99215686, 0.99215686, 0.99215686],\n",
       "         [0.98039216, 0.98039216, 0.98039216],\n",
       "         ...,\n",
       "         [1.        , 1.        , 1.        ],\n",
       "         [1.        , 1.        , 1.        ],\n",
       "         [0.82352941, 0.82352941, 0.82352941]],\n",
       "\n",
       "        ...,\n",
       "\n",
       "        [[0.99607843, 0.99607843, 0.99607843],\n",
       "         [0.99607843, 0.99607843, 0.99607843],\n",
       "         [0.99607843, 0.99607843, 0.99607843],\n",
       "         ...,\n",
       "         [0.99607843, 0.99607843, 0.99607843],\n",
       "         [0.99607843, 0.99607843, 0.99607843],\n",
       "         [0.81960784, 0.81960784, 0.81960784]],\n",
       "\n",
       "        [[0.96078431, 0.96078431, 0.96078431],\n",
       "         [0.96078431, 0.96078431, 0.96078431],\n",
       "         [0.96078431, 0.96078431, 0.96078431],\n",
       "         ...,\n",
       "         [0.96078431, 0.96078431, 0.96078431],\n",
       "         [0.96078431, 0.96078431, 0.96078431],\n",
       "         [0.79215686, 0.79215686, 0.79215686]],\n",
       "\n",
       "        [[0.8       , 0.8       , 0.8       ],\n",
       "         [0.8       , 0.8       , 0.8       ],\n",
       "         [0.8       , 0.8       , 0.8       ],\n",
       "         ...,\n",
       "         [0.8       , 0.8       , 0.8       ],\n",
       "         [0.8       , 0.8       , 0.8       ],\n",
       "         [0.64705882, 0.64705882, 0.64705882]]],\n",
       "\n",
       "\n",
       "       [[[0.04313725, 0.39607843, 0.59607843],\n",
       "         [0.00392157, 0.31372549, 0.5254902 ],\n",
       "         [0.02745098, 0.30980392, 0.54509804],\n",
       "         ...,\n",
       "         [0.43529412, 0.60392157, 0.80784314],\n",
       "         [0.38039216, 0.57647059, 0.8       ],\n",
       "         [0.33333333, 0.54901961, 0.77254902]],\n",
       "\n",
       "        [[0.00392157, 0.3372549 , 0.53333333],\n",
       "         [0.01568627, 0.3372549 , 0.54901961],\n",
       "         [0.04313725, 0.3254902 , 0.56078431],\n",
       "         ...,\n",
       "         [0.47058824, 0.63921569, 0.83137255],\n",
       "         [0.43529412, 0.63137255, 0.83921569],\n",
       "         [0.4       , 0.61568627, 0.83529412]],\n",
       "\n",
       "        [[0.        , 0.32941176, 0.52156863],\n",
       "         [0.00392157, 0.33333333, 0.54901961],\n",
       "         [0.02352941, 0.29803922, 0.54117647],\n",
       "         ...,\n",
       "         [0.47058824, 0.64313725, 0.80784314],\n",
       "         [0.43529412, 0.63921569, 0.82745098],\n",
       "         [0.41960784, 0.63529412, 0.83921569]],\n",
       "\n",
       "        ...,\n",
       "\n",
       "        [[0.19607843, 0.58431373, 0.8       ],\n",
       "         [0.21960784, 0.59215686, 0.80392157],\n",
       "         [0.19607843, 0.5372549 , 0.73333333],\n",
       "         ...,\n",
       "         [0.19215686, 0.45490196, 0.63137255],\n",
       "         [0.16470588, 0.43137255, 0.60784314],\n",
       "         [0.13333333, 0.41176471, 0.58431373]],\n",
       "\n",
       "        [[0.18823529, 0.57647059, 0.8       ],\n",
       "         [0.23921569, 0.61960784, 0.83529412],\n",
       "         [0.2       , 0.54901961, 0.75294118],\n",
       "         ...,\n",
       "         [0.18823529, 0.43921569, 0.61960784],\n",
       "         [0.16470588, 0.42352941, 0.6       ],\n",
       "         [0.1372549 , 0.4       , 0.57647059]],\n",
       "\n",
       "        [[0.02352941, 0.41568627, 0.64705882],\n",
       "         [0.11764706, 0.49411765, 0.71764706],\n",
       "         [0.17647059, 0.52941176, 0.7372549 ],\n",
       "         ...,\n",
       "         [0.19215686, 0.43529412, 0.61960784],\n",
       "         [0.17254902, 0.41568627, 0.60392157],\n",
       "         [0.14901961, 0.39215686, 0.57647059]]],\n",
       "\n",
       "\n",
       "       [[[0.75294118, 0.48235294, 0.45490196],\n",
       "         [0.75294118, 0.48235294, 0.45490196],\n",
       "         [0.75294118, 0.48235294, 0.45490196],\n",
       "         ...,\n",
       "         [0.75294118, 0.48235294, 0.45490196],\n",
       "         [0.75294118, 0.48235294, 0.45490196],\n",
       "         [0.75294118, 0.48235294, 0.45490196]],\n",
       "\n",
       "        [[0.75294118, 0.48235294, 0.45490196],\n",
       "         [0.75294118, 0.48235294, 0.45490196],\n",
       "         [0.75294118, 0.48235294, 0.45490196],\n",
       "         ...,\n",
       "         [0.75294118, 0.48235294, 0.45490196],\n",
       "         [0.75294118, 0.48235294, 0.45490196],\n",
       "         [0.75294118, 0.48235294, 0.45490196]],\n",
       "\n",
       "        [[0.75294118, 0.48235294, 0.45490196],\n",
       "         [0.75294118, 0.48235294, 0.45490196],\n",
       "         [0.75294118, 0.48235294, 0.45490196],\n",
       "         ...,\n",
       "         [0.75294118, 0.48235294, 0.45490196],\n",
       "         [0.75294118, 0.48235294, 0.45490196],\n",
       "         [0.75294118, 0.48235294, 0.45490196]],\n",
       "\n",
       "        ...,\n",
       "\n",
       "        [[0.75294118, 0.48235294, 0.45490196],\n",
       "         [0.75294118, 0.48235294, 0.45490196],\n",
       "         [0.75294118, 0.48235294, 0.45490196],\n",
       "         ...,\n",
       "         [0.75294118, 0.48235294, 0.45490196],\n",
       "         [0.75294118, 0.48235294, 0.45490196],\n",
       "         [0.75294118, 0.48235294, 0.45490196]],\n",
       "\n",
       "        [[0.75294118, 0.48235294, 0.45490196],\n",
       "         [0.75294118, 0.48235294, 0.45490196],\n",
       "         [0.75294118, 0.48235294, 0.45490196],\n",
       "         ...,\n",
       "         [0.75294118, 0.48235294, 0.45490196],\n",
       "         [0.75294118, 0.48235294, 0.45490196],\n",
       "         [0.75294118, 0.48235294, 0.45490196]],\n",
       "\n",
       "        [[0.75294118, 0.48235294, 0.45490196],\n",
       "         [0.75294118, 0.48235294, 0.45490196],\n",
       "         [0.75294118, 0.48235294, 0.45490196],\n",
       "         ...,\n",
       "         [0.75294118, 0.48235294, 0.45490196],\n",
       "         [0.75294118, 0.48235294, 0.45490196],\n",
       "         [0.75294118, 0.48235294, 0.45490196]]],\n",
       "\n",
       "\n",
       "       ...,\n",
       "\n",
       "\n",
       "       [[[0.02745098, 0.        , 0.2745098 ],\n",
       "         [0.05490196, 0.05490196, 0.15294118],\n",
       "         [0.01960784, 0.03529412, 0.01960784],\n",
       "         ...,\n",
       "         [0.        , 0.        , 0.        ],\n",
       "         [0.        , 0.        , 0.        ],\n",
       "         [0.        , 0.        , 0.        ]],\n",
       "\n",
       "        [[0.03529412, 0.00784314, 0.23137255],\n",
       "         [0.01960784, 0.02352941, 0.09019608],\n",
       "         [0.01176471, 0.02352941, 0.00784314],\n",
       "         ...,\n",
       "         [0.        , 0.        , 0.        ],\n",
       "         [0.        , 0.        , 0.        ],\n",
       "         [0.        , 0.        , 0.        ]],\n",
       "\n",
       "        [[0.03921569, 0.01176471, 0.14901961],\n",
       "         [0.03921569, 0.03137255, 0.04705882],\n",
       "         [0.03529412, 0.04705882, 0.        ],\n",
       "         ...,\n",
       "         [0.        , 0.        , 0.        ],\n",
       "         [0.        , 0.        , 0.        ],\n",
       "         [0.        , 0.        , 0.        ]],\n",
       "\n",
       "        ...,\n",
       "\n",
       "        [[0.00392157, 0.00392157, 0.00392157],\n",
       "         [0.00392157, 0.00392157, 0.00392157],\n",
       "         [0.00392157, 0.00392157, 0.00392157],\n",
       "         ...,\n",
       "         [0.02352941, 0.02745098, 0.        ],\n",
       "         [0.01960784, 0.01960784, 0.        ],\n",
       "         [0.01176471, 0.01176471, 0.        ]],\n",
       "\n",
       "        [[0.00392157, 0.00392157, 0.00392157],\n",
       "         [0.00392157, 0.00392157, 0.00392157],\n",
       "         [0.00392157, 0.00392157, 0.00392157],\n",
       "         ...,\n",
       "         [0.21568627, 0.21568627, 0.17254902],\n",
       "         [0.20392157, 0.20784314, 0.16862745],\n",
       "         [0.18823529, 0.19215686, 0.16078431]],\n",
       "\n",
       "        [[0.00392157, 0.00392157, 0.00392157],\n",
       "         [0.00392157, 0.00392157, 0.00392157],\n",
       "         [0.00392157, 0.00392157, 0.00392157],\n",
       "         ...,\n",
       "         [0.51372549, 0.51372549, 0.45882353],\n",
       "         [0.49803922, 0.50196078, 0.44705882],\n",
       "         [0.4745098 , 0.48235294, 0.42745098]]],\n",
       "\n",
       "\n",
       "       [[[0.12156863, 0.15294118, 0.21568627],\n",
       "         [0.08627451, 0.1254902 , 0.18431373],\n",
       "         [0.0745098 , 0.13333333, 0.18431373],\n",
       "         ...,\n",
       "         [0.05490196, 0.09411765, 0.14117647],\n",
       "         [0.08235294, 0.12156863, 0.16862745],\n",
       "         [0.0745098 , 0.11372549, 0.16078431]],\n",
       "\n",
       "        [[0.0745098 , 0.10196078, 0.16470588],\n",
       "         [0.0745098 , 0.11372549, 0.17254902],\n",
       "         [0.08627451, 0.1372549 , 0.19215686],\n",
       "         ...,\n",
       "         [0.08627451, 0.1254902 , 0.17254902],\n",
       "         [0.0745098 , 0.11372549, 0.16470588],\n",
       "         [0.07058824, 0.10980392, 0.15686275]],\n",
       "\n",
       "        [[0.0745098 , 0.10196078, 0.16078431],\n",
       "         [0.0627451 , 0.10196078, 0.15294118],\n",
       "         [0.09411765, 0.14509804, 0.19215686],\n",
       "         ...,\n",
       "         [0.09019608, 0.12941176, 0.17647059],\n",
       "         [0.08235294, 0.12156863, 0.16862745],\n",
       "         [0.07843137, 0.11764706, 0.16470588]],\n",
       "\n",
       "        ...,\n",
       "\n",
       "        [[0.08627451, 0.1254902 , 0.17254902],\n",
       "         [0.08627451, 0.1254902 , 0.17254902],\n",
       "         [0.08627451, 0.1254902 , 0.17254902],\n",
       "         ...,\n",
       "         [0.08627451, 0.1254902 , 0.17254902],\n",
       "         [0.08627451, 0.1254902 , 0.17254902],\n",
       "         [0.08627451, 0.1254902 , 0.17254902]],\n",
       "\n",
       "        [[0.08627451, 0.1254902 , 0.17254902],\n",
       "         [0.08627451, 0.1254902 , 0.17254902],\n",
       "         [0.08627451, 0.1254902 , 0.17254902],\n",
       "         ...,\n",
       "         [0.08627451, 0.1254902 , 0.17254902],\n",
       "         [0.08627451, 0.1254902 , 0.17254902],\n",
       "         [0.08627451, 0.1254902 , 0.17254902]],\n",
       "\n",
       "        [[0.08627451, 0.1254902 , 0.17254902],\n",
       "         [0.08627451, 0.1254902 , 0.17254902],\n",
       "         [0.08627451, 0.1254902 , 0.17254902],\n",
       "         ...,\n",
       "         [0.08627451, 0.1254902 , 0.17254902],\n",
       "         [0.08627451, 0.1254902 , 0.17254902],\n",
       "         [0.08627451, 0.1254902 , 0.17254902]]],\n",
       "\n",
       "\n",
       "       [[[0.01568627, 0.09411765, 0.18823529],\n",
       "         [0.02745098, 0.08627451, 0.18431373],\n",
       "         [0.0627451 , 0.09019608, 0.18431373],\n",
       "         ...,\n",
       "         [0.21176471, 0.08627451, 0.02745098],\n",
       "         [0.20784314, 0.08627451, 0.03529412],\n",
       "         [0.20392157, 0.08627451, 0.04313725]],\n",
       "\n",
       "        [[0.01568627, 0.09411765, 0.18823529],\n",
       "         [0.02745098, 0.08235294, 0.18431373],\n",
       "         [0.0627451 , 0.09019608, 0.18431373],\n",
       "         ...,\n",
       "         [0.21176471, 0.08627451, 0.02745098],\n",
       "         [0.20784314, 0.08627451, 0.03529412],\n",
       "         [0.20392157, 0.08627451, 0.04313725]],\n",
       "\n",
       "        [[0.01960784, 0.09411765, 0.18823529],\n",
       "         [0.02352941, 0.08235294, 0.18039216],\n",
       "         [0.05882353, 0.08627451, 0.18039216],\n",
       "         ...,\n",
       "         [0.21176471, 0.08627451, 0.02745098],\n",
       "         [0.20784314, 0.08627451, 0.03529412],\n",
       "         [0.20392157, 0.08627451, 0.04313725]],\n",
       "\n",
       "        ...,\n",
       "\n",
       "        [[0.05098039, 0.03529412, 0.00784314],\n",
       "         [0.09803922, 0.09803922, 0.03921569],\n",
       "         [0.20392157, 0.21960784, 0.10980392],\n",
       "         ...,\n",
       "         [0.3254902 , 0.18431373, 0.04313725],\n",
       "         [0.30196078, 0.16078431, 0.03137255],\n",
       "         [0.28627451, 0.14117647, 0.02745098]],\n",
       "\n",
       "        [[0.04705882, 0.03529412, 0.00392157],\n",
       "         [0.10196078, 0.09803922, 0.03921569],\n",
       "         [0.20784314, 0.22745098, 0.11372549],\n",
       "         ...,\n",
       "         [0.3254902 , 0.18431373, 0.04705882],\n",
       "         [0.30588235, 0.16470588, 0.03529412],\n",
       "         [0.28627451, 0.14509804, 0.02745098]],\n",
       "\n",
       "        [[0.04705882, 0.03529412, 0.00392157],\n",
       "         [0.10588235, 0.10196078, 0.04313725],\n",
       "         [0.21176471, 0.23137255, 0.11764706],\n",
       "         ...,\n",
       "         [0.3254902 , 0.18431373, 0.04313725],\n",
       "         [0.30588235, 0.16470588, 0.03529412],\n",
       "         [0.28627451, 0.14509804, 0.02745098]]]],\n",
       "      shape=(3000, 224, 224, 3))"
      ]
     },
     "execution_count": 24,
     "metadata": {},
     "output_type": "execute_result"
    }
   ],
   "source": [
    "X"
   ]
  },
  {
   "cell_type": "code",
   "execution_count": 28,
   "metadata": {},
   "outputs": [
    {
     "data": {
      "text/plain": [
       "overall\n",
       "neutral          2970\n",
       "positive         1902\n",
       "negative         1454\n",
       "very_positive     373\n",
       "very_negative     301\n",
       "Name: count, dtype: int64"
      ]
     },
     "execution_count": 28,
     "metadata": {},
     "output_type": "execute_result"
    }
   ],
   "source": [
    "train['overall'].value_counts()"
   ]
  },
  {
   "cell_type": "code",
   "execution_count": 43,
   "metadata": {},
   "outputs": [],
   "source": [
    "from sklearn.preprocessing import LabelEncoder\n",
    "le=LabelEncoder()\n",
    "y=le.fit_transform(train['overall'])"
   ]
  },
  {
   "cell_type": "code",
   "execution_count": 44,
   "metadata": {},
   "outputs": [
    {
     "data": {
      "text/plain": [
       "1    2970\n",
       "2    1902\n",
       "0    1454\n",
       "4     373\n",
       "3     301\n",
       "Name: count, dtype: int64"
      ]
     },
     "execution_count": 44,
     "metadata": {},
     "output_type": "execute_result"
    }
   ],
   "source": [
    "y=pd.Series(y)\n",
    "y.value_counts()"
   ]
  },
  {
   "cell_type": "code",
   "execution_count": 45,
   "metadata": {},
   "outputs": [
    {
     "data": {
      "text/plain": [
       "5"
      ]
     },
     "execution_count": 45,
     "metadata": {},
     "output_type": "execute_result"
    }
   ],
   "source": [
    "len(y.unique())"
   ]
  },
  {
   "cell_type": "code",
   "execution_count": 35,
   "metadata": {},
   "outputs": [
    {
     "name": "stderr",
     "output_type": "stream",
     "text": [
      "c:\\Users\\Kaila\\.pyenv\\pyenv-win\\versions\\3.10.0\\lib\\site-packages\\keras\\src\\layers\\convolutional\\base_conv.py:107: UserWarning: Do not pass an `input_shape`/`input_dim` argument to a layer. When using Sequential models, prefer using an `Input(shape)` object as the first layer in the model instead.\n",
      "  super().__init__(activity_regularizer=activity_regularizer, **kwargs)\n"
     ]
    }
   ],
   "source": [
    "cnn= keras.models.Sequential([\n",
    "    keras.layers.Conv2D(64,(3,3),input_shape=(224,224,3),activation='relu'),\n",
    "    keras.layers.MaxPooling2D((2,2)),\n",
    "    keras.layers.Conv2D(128,(3,3),activation='relu'),\n",
    "    keras.layers.MaxPooling2D((2,2)),\n",
    "    keras.layers.Flatten(),\n",
    "    keras.layers.Dense(64,activation='relu'),\n",
    "    keras.layers.Dense(len(y.unique()),activation='softmax')\n",
    "\n",
    "])"
   ]
  },
  {
   "cell_type": "code",
   "execution_count": 36,
   "metadata": {},
   "outputs": [],
   "source": [
    "cnn.compile(optimizer='adam',loss='sparse_categorical_crossentropy',metrics=['accuracy'])"
   ]
  },
  {
   "cell_type": "code",
   "execution_count": 46,
   "metadata": {},
   "outputs": [],
   "source": [
    "\n",
    "y=y[:3000]"
   ]
  },
  {
   "cell_type": "code",
   "execution_count": 47,
   "metadata": {},
   "outputs": [
    {
     "data": {
      "text/plain": [
       "3000"
      ]
     },
     "execution_count": 47,
     "metadata": {},
     "output_type": "execute_result"
    }
   ],
   "source": [
    "len(y)"
   ]
  },
  {
   "cell_type": "code",
   "execution_count": 50,
   "metadata": {},
   "outputs": [
    {
     "name": "stdout",
     "output_type": "stream",
     "text": [
      "Epoch 1/3\n",
      "\u001b[1m20/94\u001b[0m \u001b[32m━━━━\u001b[0m\u001b[37m━━━━━━━━━━━━━━━━\u001b[0m \u001b[1m2:04\u001b[0m 2s/step - accuracy: 0.9981 - loss: 0.0287"
     ]
    },
    {
     "ename": "KeyboardInterrupt",
     "evalue": "",
     "output_type": "error",
     "traceback": [
      "\u001b[1;31m---------------------------------------------------------------------------\u001b[0m",
      "\u001b[1;31mKeyboardInterrupt\u001b[0m                         Traceback (most recent call last)",
      "\u001b[1;32mc:\\Users\\Kaila\\Meme_Detection\\meme_detection.ipynb Cell 19\u001b[0m line \u001b[0;36m1\n\u001b[1;32m----> <a href='vscode-notebook-cell:/c%3A/Users/Kaila/Meme_Detection/meme_detection.ipynb#X23sZmlsZQ%3D%3D?line=0'>1</a>\u001b[0m cnn\u001b[39m.\u001b[39;49mfit(X,y,epochs\u001b[39m=\u001b[39;49m\u001b[39m3\u001b[39;49m)\n",
      "File \u001b[1;32mc:\\Users\\Kaila\\.pyenv\\pyenv-win\\versions\\3.10.0\\lib\\site-packages\\keras\\src\\utils\\traceback_utils.py:117\u001b[0m, in \u001b[0;36mfilter_traceback.<locals>.error_handler\u001b[1;34m(*args, **kwargs)\u001b[0m\n\u001b[0;32m    115\u001b[0m filtered_tb \u001b[39m=\u001b[39m \u001b[39mNone\u001b[39;00m\n\u001b[0;32m    116\u001b[0m \u001b[39mtry\u001b[39;00m:\n\u001b[1;32m--> 117\u001b[0m     \u001b[39mreturn\u001b[39;00m fn(\u001b[39m*\u001b[39margs, \u001b[39m*\u001b[39m\u001b[39m*\u001b[39mkwargs)\n\u001b[0;32m    118\u001b[0m \u001b[39mexcept\u001b[39;00m \u001b[39mException\u001b[39;00m \u001b[39mas\u001b[39;00m e:\n\u001b[0;32m    119\u001b[0m     filtered_tb \u001b[39m=\u001b[39m _process_traceback_frames(e\u001b[39m.\u001b[39m__traceback__)\n",
      "File \u001b[1;32mc:\\Users\\Kaila\\.pyenv\\pyenv-win\\versions\\3.10.0\\lib\\site-packages\\keras\\src\\backend\\tensorflow\\trainer.py:371\u001b[0m, in \u001b[0;36mTensorFlowTrainer.fit\u001b[1;34m(self, x, y, batch_size, epochs, verbose, callbacks, validation_split, validation_data, shuffle, class_weight, sample_weight, initial_epoch, steps_per_epoch, validation_steps, validation_batch_size, validation_freq)\u001b[0m\n\u001b[0;32m    369\u001b[0m \u001b[39mfor\u001b[39;00m step, iterator \u001b[39min\u001b[39;00m epoch_iterator:\n\u001b[0;32m    370\u001b[0m     callbacks\u001b[39m.\u001b[39mon_train_batch_begin(step)\n\u001b[1;32m--> 371\u001b[0m     logs \u001b[39m=\u001b[39m \u001b[39mself\u001b[39;49m\u001b[39m.\u001b[39;49mtrain_function(iterator)\n\u001b[0;32m    372\u001b[0m     callbacks\u001b[39m.\u001b[39mon_train_batch_end(step, logs)\n\u001b[0;32m    373\u001b[0m     \u001b[39mif\u001b[39;00m \u001b[39mself\u001b[39m\u001b[39m.\u001b[39mstop_training:\n",
      "File \u001b[1;32mc:\\Users\\Kaila\\.pyenv\\pyenv-win\\versions\\3.10.0\\lib\\site-packages\\keras\\src\\backend\\tensorflow\\trainer.py:219\u001b[0m, in \u001b[0;36mTensorFlowTrainer._make_function.<locals>.function\u001b[1;34m(iterator)\u001b[0m\n\u001b[0;32m    215\u001b[0m \u001b[39mdef\u001b[39;00m\u001b[39m \u001b[39m\u001b[39mfunction\u001b[39m(iterator):\n\u001b[0;32m    216\u001b[0m     \u001b[39mif\u001b[39;00m \u001b[39misinstance\u001b[39m(\n\u001b[0;32m    217\u001b[0m         iterator, (tf\u001b[39m.\u001b[39mdata\u001b[39m.\u001b[39mIterator, tf\u001b[39m.\u001b[39mdistribute\u001b[39m.\u001b[39mDistributedIterator)\n\u001b[0;32m    218\u001b[0m     ):\n\u001b[1;32m--> 219\u001b[0m         opt_outputs \u001b[39m=\u001b[39m multi_step_on_iterator(iterator)\n\u001b[0;32m    220\u001b[0m         \u001b[39mif\u001b[39;00m \u001b[39mnot\u001b[39;00m opt_outputs\u001b[39m.\u001b[39mhas_value():\n\u001b[0;32m    221\u001b[0m             \u001b[39mraise\u001b[39;00m \u001b[39mStopIteration\u001b[39;00m\n",
      "File \u001b[1;32mc:\\Users\\Kaila\\.pyenv\\pyenv-win\\versions\\3.10.0\\lib\\site-packages\\tensorflow\\python\\util\\traceback_utils.py:150\u001b[0m, in \u001b[0;36mfilter_traceback.<locals>.error_handler\u001b[1;34m(*args, **kwargs)\u001b[0m\n\u001b[0;32m    148\u001b[0m filtered_tb \u001b[39m=\u001b[39m \u001b[39mNone\u001b[39;00m\n\u001b[0;32m    149\u001b[0m \u001b[39mtry\u001b[39;00m:\n\u001b[1;32m--> 150\u001b[0m   \u001b[39mreturn\u001b[39;00m fn(\u001b[39m*\u001b[39margs, \u001b[39m*\u001b[39m\u001b[39m*\u001b[39mkwargs)\n\u001b[0;32m    151\u001b[0m \u001b[39mexcept\u001b[39;00m \u001b[39mException\u001b[39;00m \u001b[39mas\u001b[39;00m e:\n\u001b[0;32m    152\u001b[0m   filtered_tb \u001b[39m=\u001b[39m _process_traceback_frames(e\u001b[39m.\u001b[39m__traceback__)\n",
      "File \u001b[1;32mc:\\Users\\Kaila\\.pyenv\\pyenv-win\\versions\\3.10.0\\lib\\site-packages\\tensorflow\\python\\eager\\polymorphic_function\\polymorphic_function.py:833\u001b[0m, in \u001b[0;36mFunction.__call__\u001b[1;34m(self, *args, **kwds)\u001b[0m\n\u001b[0;32m    830\u001b[0m compiler \u001b[39m=\u001b[39m \u001b[39m\"\u001b[39m\u001b[39mxla\u001b[39m\u001b[39m\"\u001b[39m \u001b[39mif\u001b[39;00m \u001b[39mself\u001b[39m\u001b[39m.\u001b[39m_jit_compile \u001b[39melse\u001b[39;00m \u001b[39m\"\u001b[39m\u001b[39mnonXla\u001b[39m\u001b[39m\"\u001b[39m\n\u001b[0;32m    832\u001b[0m \u001b[39mwith\u001b[39;00m OptionalXlaContext(\u001b[39mself\u001b[39m\u001b[39m.\u001b[39m_jit_compile):\n\u001b[1;32m--> 833\u001b[0m   result \u001b[39m=\u001b[39m \u001b[39mself\u001b[39m\u001b[39m.\u001b[39m_call(\u001b[39m*\u001b[39margs, \u001b[39m*\u001b[39m\u001b[39m*\u001b[39mkwds)\n\u001b[0;32m    835\u001b[0m new_tracing_count \u001b[39m=\u001b[39m \u001b[39mself\u001b[39m\u001b[39m.\u001b[39mexperimental_get_tracing_count()\n\u001b[0;32m    836\u001b[0m without_tracing \u001b[39m=\u001b[39m (tracing_count \u001b[39m==\u001b[39m new_tracing_count)\n",
      "File \u001b[1;32mc:\\Users\\Kaila\\.pyenv\\pyenv-win\\versions\\3.10.0\\lib\\site-packages\\tensorflow\\python\\eager\\polymorphic_function\\polymorphic_function.py:878\u001b[0m, in \u001b[0;36mFunction._call\u001b[1;34m(self, *args, **kwds)\u001b[0m\n\u001b[0;32m    875\u001b[0m \u001b[39mself\u001b[39m\u001b[39m.\u001b[39m_lock\u001b[39m.\u001b[39mrelease()\n\u001b[0;32m    876\u001b[0m \u001b[39m# In this case we have not created variables on the first call. So we can\u001b[39;00m\n\u001b[0;32m    877\u001b[0m \u001b[39m# run the first trace but we should fail if variables are created.\u001b[39;00m\n\u001b[1;32m--> 878\u001b[0m results \u001b[39m=\u001b[39m tracing_compilation\u001b[39m.\u001b[39;49mcall_function(\n\u001b[0;32m    879\u001b[0m     args, kwds, \u001b[39mself\u001b[39;49m\u001b[39m.\u001b[39;49m_variable_creation_config\n\u001b[0;32m    880\u001b[0m )\n\u001b[0;32m    881\u001b[0m \u001b[39mif\u001b[39;00m \u001b[39mself\u001b[39m\u001b[39m.\u001b[39m_created_variables:\n\u001b[0;32m    882\u001b[0m   \u001b[39mraise\u001b[39;00m \u001b[39mValueError\u001b[39;00m(\u001b[39m\"\u001b[39m\u001b[39mCreating variables on a non-first call to a function\u001b[39m\u001b[39m\"\u001b[39m\n\u001b[0;32m    883\u001b[0m                    \u001b[39m\"\u001b[39m\u001b[39m decorated with tf.function.\u001b[39m\u001b[39m\"\u001b[39m)\n",
      "File \u001b[1;32mc:\\Users\\Kaila\\.pyenv\\pyenv-win\\versions\\3.10.0\\lib\\site-packages\\tensorflow\\python\\eager\\polymorphic_function\\tracing_compilation.py:139\u001b[0m, in \u001b[0;36mcall_function\u001b[1;34m(args, kwargs, tracing_options)\u001b[0m\n\u001b[0;32m    137\u001b[0m bound_args \u001b[39m=\u001b[39m function\u001b[39m.\u001b[39mfunction_type\u001b[39m.\u001b[39mbind(\u001b[39m*\u001b[39margs, \u001b[39m*\u001b[39m\u001b[39m*\u001b[39mkwargs)\n\u001b[0;32m    138\u001b[0m flat_inputs \u001b[39m=\u001b[39m function\u001b[39m.\u001b[39mfunction_type\u001b[39m.\u001b[39munpack_inputs(bound_args)\n\u001b[1;32m--> 139\u001b[0m \u001b[39mreturn\u001b[39;00m function\u001b[39m.\u001b[39;49m_call_flat(  \u001b[39m# pylint: disable=protected-access\u001b[39;49;00m\n\u001b[0;32m    140\u001b[0m     flat_inputs, captured_inputs\u001b[39m=\u001b[39;49mfunction\u001b[39m.\u001b[39;49mcaptured_inputs\n\u001b[0;32m    141\u001b[0m )\n",
      "File \u001b[1;32mc:\\Users\\Kaila\\.pyenv\\pyenv-win\\versions\\3.10.0\\lib\\site-packages\\tensorflow\\python\\eager\\polymorphic_function\\concrete_function.py:1322\u001b[0m, in \u001b[0;36mConcreteFunction._call_flat\u001b[1;34m(self, tensor_inputs, captured_inputs)\u001b[0m\n\u001b[0;32m   1318\u001b[0m possible_gradient_type \u001b[39m=\u001b[39m gradients_util\u001b[39m.\u001b[39mPossibleTapeGradientTypes(args)\n\u001b[0;32m   1319\u001b[0m \u001b[39mif\u001b[39;00m (possible_gradient_type \u001b[39m==\u001b[39m gradients_util\u001b[39m.\u001b[39mPOSSIBLE_GRADIENT_TYPES_NONE\n\u001b[0;32m   1320\u001b[0m     \u001b[39mand\u001b[39;00m executing_eagerly):\n\u001b[0;32m   1321\u001b[0m   \u001b[39m# No tape is watching; skip to running the function.\u001b[39;00m\n\u001b[1;32m-> 1322\u001b[0m   \u001b[39mreturn\u001b[39;00m \u001b[39mself\u001b[39;49m\u001b[39m.\u001b[39;49m_inference_function\u001b[39m.\u001b[39;49mcall_preflattened(args)\n\u001b[0;32m   1323\u001b[0m forward_backward \u001b[39m=\u001b[39m \u001b[39mself\u001b[39m\u001b[39m.\u001b[39m_select_forward_and_backward_functions(\n\u001b[0;32m   1324\u001b[0m     args,\n\u001b[0;32m   1325\u001b[0m     possible_gradient_type,\n\u001b[0;32m   1326\u001b[0m     executing_eagerly)\n\u001b[0;32m   1327\u001b[0m forward_function, args_with_tangents \u001b[39m=\u001b[39m forward_backward\u001b[39m.\u001b[39mforward()\n",
      "File \u001b[1;32mc:\\Users\\Kaila\\.pyenv\\pyenv-win\\versions\\3.10.0\\lib\\site-packages\\tensorflow\\python\\eager\\polymorphic_function\\atomic_function.py:216\u001b[0m, in \u001b[0;36mAtomicFunction.call_preflattened\u001b[1;34m(self, args)\u001b[0m\n\u001b[0;32m    214\u001b[0m \u001b[39mdef\u001b[39;00m\u001b[39m \u001b[39m\u001b[39mcall_preflattened\u001b[39m(\u001b[39mself\u001b[39m, args: Sequence[core\u001b[39m.\u001b[39mTensor]) \u001b[39m-\u001b[39m\u001b[39m>\u001b[39m Any:\n\u001b[0;32m    215\u001b[0m \u001b[39m  \u001b[39m\u001b[39m\"\"\"Calls with flattened tensor inputs and returns the structured output.\"\"\"\u001b[39;00m\n\u001b[1;32m--> 216\u001b[0m   flat_outputs \u001b[39m=\u001b[39m \u001b[39mself\u001b[39;49m\u001b[39m.\u001b[39;49mcall_flat(\u001b[39m*\u001b[39;49margs)\n\u001b[0;32m    217\u001b[0m   \u001b[39mreturn\u001b[39;00m \u001b[39mself\u001b[39m\u001b[39m.\u001b[39mfunction_type\u001b[39m.\u001b[39mpack_output(flat_outputs)\n",
      "File \u001b[1;32mc:\\Users\\Kaila\\.pyenv\\pyenv-win\\versions\\3.10.0\\lib\\site-packages\\tensorflow\\python\\eager\\polymorphic_function\\atomic_function.py:251\u001b[0m, in \u001b[0;36mAtomicFunction.call_flat\u001b[1;34m(self, *args)\u001b[0m\n\u001b[0;32m    249\u001b[0m \u001b[39mwith\u001b[39;00m record\u001b[39m.\u001b[39mstop_recording():\n\u001b[0;32m    250\u001b[0m   \u001b[39mif\u001b[39;00m \u001b[39mself\u001b[39m\u001b[39m.\u001b[39m_bound_context\u001b[39m.\u001b[39mexecuting_eagerly():\n\u001b[1;32m--> 251\u001b[0m     outputs \u001b[39m=\u001b[39m \u001b[39mself\u001b[39;49m\u001b[39m.\u001b[39;49m_bound_context\u001b[39m.\u001b[39;49mcall_function(\n\u001b[0;32m    252\u001b[0m         \u001b[39mself\u001b[39;49m\u001b[39m.\u001b[39;49mname,\n\u001b[0;32m    253\u001b[0m         \u001b[39mlist\u001b[39;49m(args),\n\u001b[0;32m    254\u001b[0m         \u001b[39mlen\u001b[39;49m(\u001b[39mself\u001b[39;49m\u001b[39m.\u001b[39;49mfunction_type\u001b[39m.\u001b[39;49mflat_outputs),\n\u001b[0;32m    255\u001b[0m     )\n\u001b[0;32m    256\u001b[0m   \u001b[39melse\u001b[39;00m:\n\u001b[0;32m    257\u001b[0m     outputs \u001b[39m=\u001b[39m make_call_op_in_graph(\n\u001b[0;32m    258\u001b[0m         \u001b[39mself\u001b[39m,\n\u001b[0;32m    259\u001b[0m         \u001b[39mlist\u001b[39m(args),\n\u001b[0;32m    260\u001b[0m         \u001b[39mself\u001b[39m\u001b[39m.\u001b[39m_bound_context\u001b[39m.\u001b[39mfunction_call_options\u001b[39m.\u001b[39mas_attrs(),\n\u001b[0;32m    261\u001b[0m     )\n",
      "File \u001b[1;32mc:\\Users\\Kaila\\.pyenv\\pyenv-win\\versions\\3.10.0\\lib\\site-packages\\tensorflow\\python\\eager\\context.py:1688\u001b[0m, in \u001b[0;36mContext.call_function\u001b[1;34m(self, name, tensor_inputs, num_outputs)\u001b[0m\n\u001b[0;32m   1686\u001b[0m cancellation_context \u001b[39m=\u001b[39m cancellation\u001b[39m.\u001b[39mcontext()\n\u001b[0;32m   1687\u001b[0m \u001b[39mif\u001b[39;00m cancellation_context \u001b[39mis\u001b[39;00m \u001b[39mNone\u001b[39;00m:\n\u001b[1;32m-> 1688\u001b[0m   outputs \u001b[39m=\u001b[39m execute\u001b[39m.\u001b[39;49mexecute(\n\u001b[0;32m   1689\u001b[0m       name\u001b[39m.\u001b[39;49mdecode(\u001b[39m\"\u001b[39;49m\u001b[39mutf-8\u001b[39;49m\u001b[39m\"\u001b[39;49m),\n\u001b[0;32m   1690\u001b[0m       num_outputs\u001b[39m=\u001b[39;49mnum_outputs,\n\u001b[0;32m   1691\u001b[0m       inputs\u001b[39m=\u001b[39;49mtensor_inputs,\n\u001b[0;32m   1692\u001b[0m       attrs\u001b[39m=\u001b[39;49mattrs,\n\u001b[0;32m   1693\u001b[0m       ctx\u001b[39m=\u001b[39;49m\u001b[39mself\u001b[39;49m,\n\u001b[0;32m   1694\u001b[0m   )\n\u001b[0;32m   1695\u001b[0m \u001b[39melse\u001b[39;00m:\n\u001b[0;32m   1696\u001b[0m   outputs \u001b[39m=\u001b[39m execute\u001b[39m.\u001b[39mexecute_with_cancellation(\n\u001b[0;32m   1697\u001b[0m       name\u001b[39m.\u001b[39mdecode(\u001b[39m\"\u001b[39m\u001b[39mutf-8\u001b[39m\u001b[39m\"\u001b[39m),\n\u001b[0;32m   1698\u001b[0m       num_outputs\u001b[39m=\u001b[39mnum_outputs,\n\u001b[1;32m   (...)\u001b[0m\n\u001b[0;32m   1702\u001b[0m       cancellation_manager\u001b[39m=\u001b[39mcancellation_context,\n\u001b[0;32m   1703\u001b[0m   )\n",
      "File \u001b[1;32mc:\\Users\\Kaila\\.pyenv\\pyenv-win\\versions\\3.10.0\\lib\\site-packages\\tensorflow\\python\\eager\\execute.py:53\u001b[0m, in \u001b[0;36mquick_execute\u001b[1;34m(op_name, num_outputs, inputs, attrs, ctx, name)\u001b[0m\n\u001b[0;32m     51\u001b[0m \u001b[39mtry\u001b[39;00m:\n\u001b[0;32m     52\u001b[0m   ctx\u001b[39m.\u001b[39mensure_initialized()\n\u001b[1;32m---> 53\u001b[0m   tensors \u001b[39m=\u001b[39m pywrap_tfe\u001b[39m.\u001b[39;49mTFE_Py_Execute(ctx\u001b[39m.\u001b[39;49m_handle, device_name, op_name,\n\u001b[0;32m     54\u001b[0m                                       inputs, attrs, num_outputs)\n\u001b[0;32m     55\u001b[0m \u001b[39mexcept\u001b[39;00m core\u001b[39m.\u001b[39m_NotOkStatusException \u001b[39mas\u001b[39;00m e:\n\u001b[0;32m     56\u001b[0m   \u001b[39mif\u001b[39;00m name \u001b[39mis\u001b[39;00m \u001b[39mnot\u001b[39;00m \u001b[39mNone\u001b[39;00m:\n",
      "\u001b[1;31mKeyboardInterrupt\u001b[0m: "
     ]
    }
   ],
   "source": [
    "cnn.fit(X,y,epochs=3)"
   ]
  },
  {
   "cell_type": "code",
   "execution_count": 51,
   "metadata": {},
   "outputs": [
    {
     "name": "stdout",
     "output_type": "stream",
     "text": [
      "\u001b[1m94/94\u001b[0m \u001b[32m━━━━━━━━━━━━━━━━━━━━\u001b[0m\u001b[37m\u001b[0m \u001b[1m34s\u001b[0m 354ms/step\n"
     ]
    },
    {
     "data": {
      "text/plain": [
       "array([[2.6341137e-05, 9.9997294e-01, 7.6255139e-07, 3.3354203e-12,\n",
       "        2.8965386e-11],\n",
       "       [6.7739420e-10, 9.9866414e-01, 1.3358289e-03, 2.2547562e-08,\n",
       "        2.5243507e-11],\n",
       "       [1.4319552e-04, 2.0162354e-03, 9.9781537e-01, 2.2434953e-05,\n",
       "        2.6958667e-06],\n",
       "       ...,\n",
       "       [2.2393088e-04, 9.9890459e-01, 2.9163259e-06, 8.6858938e-04,\n",
       "        3.7259131e-08],\n",
       "       [3.0847008e-03, 2.4456859e-03, 9.9446684e-01, 3.4979817e-07,\n",
       "        2.5034533e-06],\n",
       "       [5.2636897e-04, 9.9947363e-01, 7.7567779e-11, 2.6210133e-17,\n",
       "        8.0817091e-15]], shape=(3000, 5), dtype=float32)"
      ]
     },
     "execution_count": 51,
     "metadata": {},
     "output_type": "execute_result"
    }
   ],
   "source": [
    "cnn.predict(X)"
   ]
  },
  {
   "cell_type": "code",
   "execution_count": 52,
   "metadata": {},
   "outputs": [],
   "source": [
    "test=[]\n",
    "for i in range(500):\n",
    "    img=read_image(os.path.join('.','datasets','testimages',str(i)+'.jpg'))\n",
    "    test.append(img)"
   ]
  },
  {
   "cell_type": "code",
   "execution_count": 53,
   "metadata": {},
   "outputs": [
    {
     "data": {
      "text/html": [
       "<div>\n",
       "<style scoped>\n",
       "    .dataframe tbody tr th:only-of-type {\n",
       "        vertical-align: middle;\n",
       "    }\n",
       "\n",
       "    .dataframe tbody tr th {\n",
       "        vertical-align: top;\n",
       "    }\n",
       "\n",
       "    .dataframe thead th {\n",
       "        text-align: right;\n",
       "    }\n",
       "</style>\n",
       "<table border=\"1\" class=\"dataframe\">\n",
       "  <thead>\n",
       "    <tr style=\"text-align: right;\">\n",
       "      <th></th>\n",
       "      <th>Unnamed: 0</th>\n",
       "      <th>image_url</th>\n",
       "      <th>ocr</th>\n",
       "    </tr>\n",
       "  </thead>\n",
       "  <tbody>\n",
       "    <tr>\n",
       "      <th>0</th>\n",
       "      <td>0</td>\n",
       "      <td>https://encrypted-tbn0.gstatic.com/images?q=tb...</td>\n",
       "      <td>#Lockdown4\\nmakatteun\\nbura lagega but there n...</td>\n",
       "    </tr>\n",
       "    <tr>\n",
       "      <th>1</th>\n",
       "      <td>1</td>\n",
       "      <td>https://encrypted-tbn0.gstatic.com/images?q=tb...</td>\n",
       "      <td>पोस्ट करने वाले\\n@alayarwt\\nCOBAROK\\nHUME KOI ...</td>\n",
       "    </tr>\n",
       "    <tr>\n",
       "      <th>2</th>\n",
       "      <td>2</td>\n",
       "      <td>https://encrypted-tbn0.gstatic.com/images?q=tb...</td>\n",
       "      <td>Girlfriend\\nFacebook\\nMe\\nPubg\\nMemes\\nInsta\\n...</td>\n",
       "    </tr>\n",
       "    <tr>\n",
       "      <th>3</th>\n",
       "      <td>3</td>\n",
       "      <td>https://encrypted-tbn0.gstatic.com/images?q=tb...</td>\n",
       "      <td>TELL THEM THEY CAN OPEN P\\nMERS ARENALDEN\\nE\\n...</td>\n",
       "    </tr>\n",
       "    <tr>\n",
       "      <th>4</th>\n",
       "      <td>4</td>\n",
       "      <td>https://encrypted-tbn0.gstatic.com/images?q=tb...</td>\n",
       "      <td>What about my Media attention\\npapa?\\nAa gaye ...</td>\n",
       "    </tr>\n",
       "    <tr>\n",
       "      <th>...</th>\n",
       "      <td>...</td>\n",
       "      <td>...</td>\n",
       "      <td>...</td>\n",
       "    </tr>\n",
       "    <tr>\n",
       "      <th>1495</th>\n",
       "      <td>1495</td>\n",
       "      <td>https://encrypted-tbn0.gstatic.com/images?q=tb...</td>\n",
       "      <td>Aham Brahmasmi.\\nNETFLIX</td>\n",
       "    </tr>\n",
       "    <tr>\n",
       "      <th>1496</th>\n",
       "      <td>1496</td>\n",
       "      <td>https://encrypted-tbn0.gstatic.com/images?q=tb...</td>\n",
       "      <td>SACRED GAMES\\nALLEGEDLY INSULTED\\nEX PM RAJEEV...</td>\n",
       "    </tr>\n",
       "    <tr>\n",
       "      <th>1497</th>\n",
       "      <td>1497</td>\n",
       "      <td>https://encrypted-tbn0.gstatic.com/images?q=tb...</td>\n",
       "      <td>hp\\nSTUDIO\\nR\\nPVR\\nREMAS\\nThe Sharma\\nGaitond...</td>\n",
       "    </tr>\n",
       "    <tr>\n",
       "      <th>1498</th>\n",
       "      <td>1498</td>\n",
       "      <td>https://encrypted-tbn0.gstatic.com/images?q=tb...</td>\n",
       "      <td>am going to create\\nan misunderstanding that i...</td>\n",
       "    </tr>\n",
       "    <tr>\n",
       "      <th>1499</th>\n",
       "      <td>1499</td>\n",
       "      <td>https://encrypted-tbn0.gstatic.com/images?q=tb...</td>\n",
       "      <td>PUBG\\nMe to FreeFire:~\\nCOD\\n@ding-hicko\\nFAU-...</td>\n",
       "    </tr>\n",
       "  </tbody>\n",
       "</table>\n",
       "<p>1500 rows × 3 columns</p>\n",
       "</div>"
      ],
      "text/plain": [
       "      Unnamed: 0  ...                                                ocr\n",
       "0              0  ...  #Lockdown4\\nmakatteun\\nbura lagega but there n...\n",
       "1              1  ...  पोस्ट करने वाले\\n@alayarwt\\nCOBAROK\\nHUME KOI ...\n",
       "2              2  ...  Girlfriend\\nFacebook\\nMe\\nPubg\\nMemes\\nInsta\\n...\n",
       "3              3  ...  TELL THEM THEY CAN OPEN P\\nMERS ARENALDEN\\nE\\n...\n",
       "4              4  ...  What about my Media attention\\npapa?\\nAa gaye ...\n",
       "...          ...  ...                                                ...\n",
       "1495        1495  ...                           Aham Brahmasmi.\\nNETFLIX\n",
       "1496        1496  ...  SACRED GAMES\\nALLEGEDLY INSULTED\\nEX PM RAJEEV...\n",
       "1497        1497  ...  hp\\nSTUDIO\\nR\\nPVR\\nREMAS\\nThe Sharma\\nGaitond...\n",
       "1498        1498  ...  am going to create\\nan misunderstanding that i...\n",
       "1499        1499  ...  PUBG\\nMe to FreeFire:~\\nCOD\\n@ding-hicko\\nFAU-...\n",
       "\n",
       "[1500 rows x 3 columns]"
      ]
     },
     "execution_count": 53,
     "metadata": {},
     "output_type": "execute_result"
    }
   ],
   "source": [
    "te=pd.read_csv('datasets/test.csv')\n",
    "te"
   ]
  },
  {
   "cell_type": "code",
   "execution_count": 54,
   "metadata": {},
   "outputs": [],
   "source": [
    "test=np.array(test)\n"
   ]
  },
  {
   "cell_type": "code",
   "execution_count": 57,
   "metadata": {},
   "outputs": [
    {
     "data": {
      "text/plain": [
       "<matplotlib.image.AxesImage at 0x22ba92198d0>"
      ]
     },
     "execution_count": 57,
     "metadata": {},
     "output_type": "execute_result"
    },
    {
     "data": {
      "text/plain": [
       "<Figure size 640x480 with 0 Axes>"
      ]
     },
     "metadata": {},
     "output_type": "display_data"
    },
    {
     "data": {
      "image/png": "[encoded data removed]",
      "text/plain": [
       "<Figure size 480x480 with 1 Axes>"
      ]
     },
     "metadata": {},
     "output_type": "display_data"
    }
   ],
   "source": [
    "plt.gray()\n",
    "plt.matshow(test[4])"
   ]
  },
  {
   "cell_type": "code",
   "execution_count": 74,
   "metadata": {},
   "outputs": [
    {
     "name": "stdout",
     "output_type": "stream",
     "text": [
      "\u001b[1m94/94\u001b[0m \u001b[32m━━━━━━━━━━━━━━━━━━━━\u001b[0m\u001b[37m\u001b[0m \u001b[1m32s\u001b[0m 323ms/step\n"
     ]
    }
   ],
   "source": [
    "import numpy as np\n",
    "\n",
    "p=cnn.predict(X)\n"
   ]
  },
  {
   "cell_type": "code",
   "execution_count": 80,
   "metadata": {},
   "outputs": [
    {
     "ename": "AxisError",
     "evalue": "axis 1 is out of bounds for array of dimension 1",
     "output_type": "error",
     "traceback": [
      "\u001b[1;31m---------------------------------------------------------------------------\u001b[0m",
      "\u001b[1;31mAxisError\u001b[0m                                 Traceback (most recent call last)",
      "\u001b[1;32mc:\\Users\\Kaila\\Meme_Detection\\meme_detection.ipynb Cell 26\u001b[0m line \u001b[0;36m1\n\u001b[1;32m----> <a href='vscode-notebook-cell:/c%3A/Users/Kaila/Meme_Detection/meme_detection.ipynb#X36sZmlsZQ%3D%3D?line=0'>1</a>\u001b[0m p\u001b[39m=\u001b[39mnp\u001b[39m.\u001b[39;49margmax(p,axis\u001b[39m=\u001b[39;49m\u001b[39m1\u001b[39;49m)\n\u001b[0;32m      <a href='vscode-notebook-cell:/c%3A/Users/Kaila/Meme_Detection/meme_detection.ipynb#X36sZmlsZQ%3D%3D?line=1'>2</a>\u001b[0m p\n",
      "File \u001b[1;32mc:\\Users\\Kaila\\.pyenv\\pyenv-win\\versions\\3.10.0\\lib\\site-packages\\numpy\\_core\\fromnumeric.py:1342\u001b[0m, in \u001b[0;36margmax\u001b[1;34m(a, axis, out, keepdims)\u001b[0m\n\u001b[0;32m   1253\u001b[0m \u001b[39m\u001b[39m\u001b[39m\"\"\"\u001b[39;00m\n\u001b[0;32m   1254\u001b[0m \u001b[39mReturns the indices of the maximum values along an axis.\u001b[39;00m\n\u001b[0;32m   1255\u001b[0m \n\u001b[1;32m   (...)\u001b[0m\n\u001b[0;32m   1339\u001b[0m \u001b[39m(2, 1, 4)\u001b[39;00m\n\u001b[0;32m   1340\u001b[0m \u001b[39m\"\"\"\u001b[39;00m\n\u001b[0;32m   1341\u001b[0m kwds \u001b[39m=\u001b[39m {\u001b[39m'\u001b[39m\u001b[39mkeepdims\u001b[39m\u001b[39m'\u001b[39m: keepdims} \u001b[39mif\u001b[39;00m keepdims \u001b[39mis\u001b[39;00m \u001b[39mnot\u001b[39;00m np\u001b[39m.\u001b[39m_NoValue \u001b[39melse\u001b[39;00m {}\n\u001b[1;32m-> 1342\u001b[0m \u001b[39mreturn\u001b[39;00m _wrapfunc(a, \u001b[39m'\u001b[39m\u001b[39margmax\u001b[39m\u001b[39m'\u001b[39m, axis\u001b[39m=\u001b[39maxis, out\u001b[39m=\u001b[39mout, \u001b[39m*\u001b[39m\u001b[39m*\u001b[39mkwds)\n",
      "File \u001b[1;32mc:\\Users\\Kaila\\.pyenv\\pyenv-win\\versions\\3.10.0\\lib\\site-packages\\numpy\\_core\\fromnumeric.py:57\u001b[0m, in \u001b[0;36m_wrapfunc\u001b[1;34m(obj, method, *args, **kwds)\u001b[0m\n\u001b[0;32m     54\u001b[0m     \u001b[39mreturn\u001b[39;00m _wrapit(obj, method, \u001b[39m*\u001b[39margs, \u001b[39m*\u001b[39m\u001b[39m*\u001b[39mkwds)\n\u001b[0;32m     56\u001b[0m \u001b[39mtry\u001b[39;00m:\n\u001b[1;32m---> 57\u001b[0m     \u001b[39mreturn\u001b[39;00m bound(\u001b[39m*\u001b[39margs, \u001b[39m*\u001b[39m\u001b[39m*\u001b[39mkwds)\n\u001b[0;32m     58\u001b[0m \u001b[39mexcept\u001b[39;00m \u001b[39mTypeError\u001b[39;00m:\n\u001b[0;32m     59\u001b[0m     \u001b[39m# A TypeError occurs if the object does have such a method in its\u001b[39;00m\n\u001b[0;32m     60\u001b[0m     \u001b[39m# class, but its signature is not identical to that of NumPy's. This\u001b[39;00m\n\u001b[1;32m   (...)\u001b[0m\n\u001b[0;32m     64\u001b[0m     \u001b[39m# Call _wrapit from within the except clause to ensure a potential\u001b[39;00m\n\u001b[0;32m     65\u001b[0m     \u001b[39m# exception has a traceback chain.\u001b[39;00m\n\u001b[0;32m     66\u001b[0m     \u001b[39mreturn\u001b[39;00m _wrapit(obj, method, \u001b[39m*\u001b[39margs, \u001b[39m*\u001b[39m\u001b[39m*\u001b[39mkwds)\n",
      "\u001b[1;31mAxisError\u001b[0m: axis 1 is out of bounds for array of dimension 1"
     ]
    }
   ],
   "source": [
    "p=np.argmax(p,axis=1)\n",
    "p"
   ]
  },
  {
   "cell_type": "code",
   "execution_count": 69,
   "metadata": {},
   "outputs": [
    {
     "data": {
      "text/plain": [
       "0     1\n",
       "1     1\n",
       "2     2\n",
       "3     2\n",
       "4     0\n",
       "5     1\n",
       "6     1\n",
       "7     3\n",
       "8     0\n",
       "9     0\n",
       "10    2\n",
       "11    2\n",
       "12    0\n",
       "13    2\n",
       "14    1\n",
       "dtype: int64"
      ]
     },
     "execution_count": 69,
     "metadata": {},
     "output_type": "execute_result"
    }
   ],
   "source": [
    "y[:15]"
   ]
  }
 ],
 "metadata": {
  "kernelspec": {
   "display_name": "Python 3",
   "language": "python",
   "name": "python3"
  },
  "language_info": {
   "codemirror_mode": {
    "name": "ipython",
    "version": 3
   },
   "file_extension": ".py",
   "mimetype": "text/x-python",
   "name": "python",
   "nbconvert_exporter": "python",
   "pygments_lexer": "ipython3",
   "version": "3.10.0"
  }
 },
 "nbformat": 4,
 "nbformat_minor": 2
}
